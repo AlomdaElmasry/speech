{
 "cells": [
  {
   "cell_type": "markdown",
   "metadata": {},
   "source": [
    "### pre processing\n"
   ]
  },
  {
   "cell_type": "code",
   "execution_count": 1,
   "metadata": {},
   "outputs": [],
   "source": [
    "import numpy as np\n",
    "import librosa\n",
    "import librosa.display\n",
    "import os\n",
    "import csv\n",
    "%matplotlib inline\n",
    "import matplotlib.pyplot as plt\n",
    "import random\n",
    "\n"
   ]
  },
  {
   "cell_type": "code",
   "execution_count": 2,
   "metadata": {},
   "outputs": [],
   "source": [
    "train_dir = './data/train/audio/' #download files from kaggle\n",
    "\n",
    "classes = ['yes', 'no', \n",
    "           'up', 'down', \n",
    "           'left', 'right', \n",
    "           'on', 'off', \n",
    "           'stop', 'go', \n",
    "           'silence', 'unknown']"
   ]
  },
  {
   "cell_type": "markdown",
   "metadata": {},
   "source": [
    "run this cell to move the background noises folder out of the audio directory. We will create silence samples from these files after."
   ]
  },
  {
   "cell_type": "code",
   "execution_count": null,
   "metadata": {
    "scrolled": true
   },
   "outputs": [],
   "source": [
    "%%bash\n",
    "mv data/train/audio/_background_noise_ data/train\n",
    "ls data/train"
   ]
  },
  {
   "cell_type": "markdown",
   "metadata": {},
   "source": [
    "Split all the audio files from \\_background\\_noises\\_ folder in 1-sec chunks"
   ]
  },
  {
   "cell_type": "code",
   "execution_count": null,
   "metadata": {},
   "outputs": [],
   "source": [
    "def split_arr(arr):\n",
    "    \"\"\"\n",
    "    split an array into chunks of length 16000\n",
    "    Returns:\n",
    "        list of arrays\n",
    "    \"\"\"\n",
    "    return np.split(arr, np.arange(16000, len(arr), 16000))"
   ]
  },
  {
   "cell_type": "code",
   "execution_count": null,
   "metadata": {},
   "outputs": [],
   "source": [
    "def create_silence():\n",
    "    \"\"\"\n",
    "    reads wav files in background noises folder, \n",
    "    splits them and saves to silence folder in train_dir\n",
    "    \"\"\"\n",
    "    for file in os.listdir('data/train/_background_noise_/'):\n",
    "        if 'wav' in file:\n",
    "            sig, rate = librosa.load('data/train/_background_noise_/' + file, sr = 16000)        \n",
    "            sig_arr = split_arr(sig)\n",
    "            if not os.path.exists(train_dir+'silence/'):\n",
    "                os.makedirs(train_dir+'silence/')\n",
    "            for ind, arr in enumerate(sig_arr):\n",
    "                filename = 'frag%d' %ind + '_%s' %file # example: frag0_running_tap.wav\n",
    "                librosa.output.write_wav(train_dir+'silence/'+filename, arr, 16000)\n",
    "  "
   ]
  },
  {
   "cell_type": "code",
   "execution_count": null,
   "metadata": {},
   "outputs": [],
   "source": [
    "create_silence()"
   ]
  },
  {
   "cell_type": "markdown",
   "metadata": {},
   "source": [
    "It is probably a good idea to make more silence samples yourself. \n",
    "Perhaps just by recording walking or driving around without speaking.\n",
    "the silence class is underrepresented."
   ]
  },
  {
   "cell_type": "markdown",
   "metadata": {},
   "source": [
    "three lists with file names. one for training set, one for validation set, one for all. Plus a dictionary with file counts per class."
   ]
  },
  {
   "cell_type": "code",
   "execution_count": 3,
   "metadata": {},
   "outputs": [
    {
     "name": "stdout",
     "output_type": "stream",
     "text": [
      "['yes', 'no', 'up', 'down', 'left', 'right', 'on', 'off', 'stop', 'go', 'silence', 'house', 'nine', 'four', 'happy', 'wow', 'five', 'zero', 'tree', 'six', 'one', 'three', 'eight', 'cat', 'two', 'seven', 'marvin', 'dog', 'sheila', 'bed', 'bird']\n"
     ]
    }
   ],
   "source": [
    "folders = os.listdir(train_dir)\n",
    "# put folders in same order as in the classes list, used when making sets\n",
    "all_classes = [x for x in classes[:11]]\n",
    "for ind, cl in enumerate(folders):\n",
    "    if cl not in classes:\n",
    "        all_classes.append(cl)\n",
    "print(all_classes)"
   ]
  },
  {
   "cell_type": "code",
   "execution_count": 4,
   "metadata": {},
   "outputs": [],
   "source": [
    "with open('./data/train/validation_list.txt') as val_list:\n",
    "    validation_list = [row[0] for row in csv.reader(val_list)]\n",
    "assert len(validation_list) == 6798, 'file not loaded'\n",
    "\n",
    "\"\"\"\n",
    "#if you want to add the files in testing_list.txt to the validation list:\n",
    "\n",
    "with open('./data/train/testing_list.txt') as test_list:\n",
    "    testing_list = [row[0] for row in csv.reader(test_list)]\n",
    "assert len(testing_list) == 6835, 'file not loaded'\n",
    "\n",
    "#combine into validation set\n",
    "validation_list.extend(testing_list)\n",
    "\"\"\"\n",
    "#add silence files to validation_list\n",
    "for i, file in enumerate(os.listdir(train_dir + 'silence/')):\n",
    "    if i%10==0:\n",
    "        validation_list.append('silence/'+file)\n",
    "\n",
    "training_list = []\n",
    "all_files_list = []\n",
    "class_counts = {}\n",
    "\n",
    "for folder in folders:\n",
    "    files = os.listdir(train_dir + folder)\n",
    "    for i, f in enumerate(files):\n",
    "        all_files_list.append(folder + '/' + f)\n",
    "        path = folder + '/' + f\n",
    "        if path not in validation_list:\n",
    "            training_list.append(folder + '/' + f)        \n",
    "        class_counts[folder] = i\n",
    "\n",
    "#remove filenames from validation_list that don't exist anymore (due to eda)\n",
    "validation_list = list(set(validation_list).intersection(all_files_list))"
   ]
  },
  {
   "cell_type": "code",
   "execution_count": 5,
   "metadata": {},
   "outputs": [],
   "source": [
    "assert len(validation_list)+len(training_list)==len(all_files_list), 'error'"
   ]
  },
  {
   "cell_type": "code",
   "execution_count": 6,
   "metadata": {},
   "outputs": [
    {
     "name": "stdout",
     "output_type": "stream",
     "text": [
      "yes/15f04ff8_nohash_0.wav size training set:  58284 size validation set:  6839\n"
     ]
    }
   ],
   "source": [
    "# check random file name\n",
    "print(training_list[345], 'size training set: ',len(training_list), 'size validation set: ', len(validation_list))"
   ]
  },
  {
   "cell_type": "code",
   "execution_count": 7,
   "metadata": {
    "scrolled": false
   },
   "outputs": [
    {
     "name": "stdout",
     "output_type": "stream",
     "text": [
      "{'tree': 1732, 'sheila': 1733, 'bird': 1730, 'no': 2374, 'four': 2371, 'zero': 2375, 'up': 2374, 'five': 2356, 'cat': 1732, 'yes': 2376, 'eight': 2351, 'off': 2356, 'seven': 2376, 'house': 1749, 'happy': 1741, 'three': 2355, 'left': 2352, 'two': 2372, 'bed': 1712, 'nine': 2363, 'dog': 1745, 'down': 2358, 'wow': 1744, 'right': 2366, 'on': 2366, 'one': 2369, 'go': 2371, 'marvin': 1745, 'stop': 2379, 'six': 2368, 'silence': 401}\n"
     ]
    }
   ],
   "source": [
    "print(class_counts)"
   ]
  },
  {
   "cell_type": "markdown",
   "metadata": {},
   "source": [
    "plot a wav file"
   ]
  },
  {
   "cell_type": "code",
   "execution_count": 8,
   "metadata": {},
   "outputs": [
    {
     "name": "stdout",
     "output_type": "stream",
     "text": [
      "min:  -0.1182251 \n",
      "max:  0.10827637 \n",
      "mean:  7.842428e-06 \n",
      "median:  0.0 \n",
      "variance:  0.0003236237 \n",
      "length:  10923\n"
     ]
    },
    {
     "data": {
      "text/plain": [
       "[<matplotlib.lines.Line2D at 0x7fd9de7e6940>]"
      ]
     },
     "execution_count": 8,
     "metadata": {},
     "output_type": "execute_result"
    },
    {
     "data": {
      "image/png": "[encoded data removed]",
      "text/plain": [
       "<matplotlib.figure.Figure at 0x7fd9de88bf98>"
      ]
     },
     "metadata": {},
     "output_type": "display_data"
    }
   ],
   "source": [
    "x, r = librosa.load(train_dir + 'yes/bfdb9801_nohash_0.wav', sr = 16000)\n",
    "print('min: ',np.min(x), \n",
    "      '\\nmax: ', np.max(x), \n",
    "      '\\nmean: ', np.mean(x),\n",
    "      '\\nmedian: ', np.median(x),\n",
    "      '\\nvariance: ', np.var(x),\n",
    "      '\\nlength: ', len(x))\n",
    "plt.plot(x)"
   ]
  },
  {
   "cell_type": "markdown",
   "metadata": {},
   "source": [
    "### turn all wav files into spectrograms"
   ]
  },
  {
   "cell_type": "code",
   "execution_count": 9,
   "metadata": {},
   "outputs": [],
   "source": [
    "def make_spec(file, file_dir = train_dir, flip = False, ps = False, st = 4):\n",
    "    \"\"\"\n",
    "    create a melspectrogram from the amplitude of the sound\n",
    "    \n",
    "    Args:\n",
    "        file (str): filename\n",
    "        file_dir (str): directory path\n",
    "        flip (bool): reverse time axis\n",
    "        ps (bool): pitch shift\n",
    "        st (int): half-note steps for pitch shift\n",
    "    Returns:\n",
    "        np.array with shape (122,85) (time, freq)\n",
    "    \"\"\"\n",
    "    sig, rate = librosa.load(file_dir + file, sr = 16000)\n",
    "    if len(sig) < 16000: # pad shorter than 1 sec audio with ramp to zero\n",
    "        sig = np.pad(sig, (0,16000-len(sig)), 'linear_ramp')\n",
    "    if ps:\n",
    "        sig = librosa.effects.pitch_shift(sig, rate, st)\n",
    "    D = librosa.amplitude_to_db(librosa.stft(sig[:16000], n_fft = 512, \n",
    "                                             hop_length = 128, \n",
    "                                             center = False), ref = np.max)\n",
    "    S = librosa.feature.melspectrogram(S=D, n_mels = 85).T\n",
    "    if flip:\n",
    "        S = np.flipud(S)\n",
    "    return S.astype(np.float32)"
   ]
  },
  {
   "cell_type": "code",
   "execution_count": 10,
   "metadata": {},
   "outputs": [
    {
     "name": "stderr",
     "output_type": "stream",
     "text": [
      "/home/chris/.conda/envs/deep/lib/python3.5/site-packages/librosa/display.py:656: FutureWarning: Conversion of the second argument of issubdtype from `complex` to `np.complexfloating` is deprecated. In future, it will be treated as `np.complex128 == np.dtype(complex).type`.\n",
      "  if np.issubdtype(data.dtype, np.complex):\n"
     ]
    },
    {
     "data": {
      "text/plain": [
       "<matplotlib.axes._subplots.AxesSubplot at 0x7fda14b42d30>"
      ]
     },
     "execution_count": 10,
     "metadata": {},
     "output_type": "execute_result"
    },
    {
     "data": {
      "image/png": "[encoded data removed]",
      "text/plain": [
       "<matplotlib.figure.Figure at 0x7fd9dbb954e0>"
      ]
     },
     "metadata": {},
     "output_type": "display_data"
    }
   ],
   "source": [
    "librosa.display.specshow(make_spec('yes/bfdb9801_nohash_0.wav'), \n",
    "                         x_axis='mel', \n",
    "                         fmax=8000, \n",
    "                         y_axis='time', \n",
    "                         sr = 16000,\n",
    "                         hop_length = 128)"
   ]
  },
  {
   "cell_type": "code",
   "execution_count": 11,
   "metadata": {},
   "outputs": [
    {
     "data": {
      "text/plain": [
       "(122, 85)"
      ]
     },
     "execution_count": 11,
     "metadata": {},
     "output_type": "execute_result"
    }
   ],
   "source": [
    "make_spec('yes/bfdb9801_nohash_0.wav').shape"
   ]
  },
  {
   "cell_type": "code",
   "execution_count": 12,
   "metadata": {},
   "outputs": [],
   "source": [
    "def create_sets(file_list = training_list):\n",
    "    X_array = np.zeros([len(file_list),122,85])\n",
    "    Y_array = np.zeros([len(file_list)])    \n",
    "    for ind, file in enumerate(file_list):\n",
    "        if ind%2000 == 0:\n",
    "            print(ind, file)\n",
    "        try:\n",
    "            X_array[ind] = make_spec(file)\n",
    "        except ValueError:\n",
    "            print(ind, file, ValueError)\n",
    "        Y_array[ind] = all_classes.index(file.rsplit('/')[0])\n",
    "        \n",
    "    return X_array, Y_array        \n",
    "        "
   ]
  },
  {
   "cell_type": "code",
   "execution_count": 13,
   "metadata": {
    "scrolled": true
   },
   "outputs": [
    {
     "name": "stdout",
     "output_type": "stream",
     "text": [
      "0 yes/8a28231e_nohash_3.wav\n",
      "2000 yes/21307344_nohash_0.wav\n",
      "4000 silence/frag55_dude_miaowing.wav\n",
      "6000 nine/283d7a53_nohash_1.wav\n",
      "8000 four/31d31fa0_nohash_0.wav\n",
      "10000 wow/d84829e0_nohash_0.wav\n",
      "12000 five/173e6bbf_nohash_0.wav\n",
      "14000 stop/bbd0bbd0_nohash_4.wav\n",
      "16000 off/29fb33da_nohash_0.wav\n",
      "18000 zero/39543cfd_nohash_1.wav\n",
      "20000 tree/6a203e0e_nohash_3.wav\n",
      "22000 up/01b4757a_nohash_0.wav\n",
      "24000 six/21cbe292_nohash_0.wav\n",
      "26000 one/3b852f6f_nohash_0.wav\n",
      "28000 down/b959cd0c_nohash_4.wav\n",
      "30000 three/23abe1c9_nohash_1.wav\n",
      "32000 three/f953e1af_nohash_1.wav\n",
      "34000 right/75915c90_nohash_0.wav\n",
      "36000 eight/85b877b5_nohash_0.wav\n",
      "38000 no/88053e92_nohash_0.wav\n",
      "40000 two/a1c63f25_nohash_0.wav\n",
      "42000 two/c1d39ce8_nohash_8.wav\n",
      "44000 seven/72ca6a6d_nohash_0.wav\n",
      "46000 on/0137b3f4_nohash_3.wav\n",
      "48000 left/1b4c9b89_nohash_4.wav\n",
      "50000 dog/dfb6450b_nohash_0.wav\n",
      "52000 go/0137b3f4_nohash_2.wav\n",
      "54000 sheila/1ecfb537_nohash_0.wav\n",
      "56000 bed/129c7d8d_nohash_0.wav\n",
      "58000 bird/b9f46737_nohash_0.wav\n"
     ]
    }
   ],
   "source": [
    "X_train, Y_train_all = create_sets() # takes a while"
   ]
  },
  {
   "cell_type": "code",
   "execution_count": 15,
   "metadata": {},
   "outputs": [],
   "source": [
    "# all unknown are index 11\n",
    "Y_train = np.where(Y_train_all < 11, Y_train_all, 11)"
   ]
  },
  {
   "cell_type": "code",
   "execution_count": 21,
   "metadata": {},
   "outputs": [
    {
     "name": "stdout",
     "output_type": "stream",
     "text": [
      "True False\n"
     ]
    }
   ],
   "source": [
    "print(len(Y_train) == len(Y_train_all), 12 in Y_train)"
   ]
  },
  {
   "cell_type": "code",
   "execution_count": 22,
   "metadata": {},
   "outputs": [
    {
     "data": {
      "text/plain": [
       "(58284, 122, 85)"
      ]
     },
     "execution_count": 22,
     "metadata": {},
     "output_type": "execute_result"
    }
   ],
   "source": [
    "X_train.shape"
   ]
  },
  {
   "cell_type": "code",
   "execution_count": 23,
   "metadata": {},
   "outputs": [
    {
     "data": {
      "text/plain": [
       "(58284,)"
      ]
     },
     "execution_count": 23,
     "metadata": {},
     "output_type": "execute_result"
    }
   ],
   "source": [
    "Y_train_all.shape"
   ]
  },
  {
   "cell_type": "code",
   "execution_count": 24,
   "metadata": {},
   "outputs": [
    {
     "data": {
      "text/plain": [
       "(58284,)"
      ]
     },
     "execution_count": 24,
     "metadata": {},
     "output_type": "execute_result"
    }
   ],
   "source": [
    "Y_train.shape"
   ]
  },
  {
   "cell_type": "code",
   "execution_count": 25,
   "metadata": {},
   "outputs": [
    {
     "name": "stderr",
     "output_type": "stream",
     "text": [
      "/home/chris/.conda/envs/deep/lib/python3.5/site-packages/librosa/display.py:656: FutureWarning: Conversion of the second argument of issubdtype from `complex` to `np.complexfloating` is deprecated. In future, it will be treated as `np.complex128 == np.dtype(complex).type`.\n",
      "  if np.issubdtype(data.dtype, np.complex):\n"
     ]
    },
    {
     "data": {
      "text/plain": [
       "<matplotlib.axes._subplots.AxesSubplot at 0x7fd8bac6c828>"
      ]
     },
     "execution_count": 25,
     "metadata": {},
     "output_type": "execute_result"
    },
    {
     "data": {
      "image/png": "[encoded data removed]",
      "text/plain": [
       "<matplotlib.figure.Figure at 0x7fd8bac68a90>"
      ]
     },
     "metadata": {},
     "output_type": "display_data"
    }
   ],
   "source": [
    "librosa.display.specshow(X_train[6500], \n",
    "                         x_axis='mel', \n",
    "                         fmax=8000, \n",
    "                         y_axis='time', \n",
    "                         sr = 16000,\n",
    "                         hop_length = 128)"
   ]
  },
  {
   "cell_type": "code",
   "execution_count": 27,
   "metadata": {},
   "outputs": [
    {
     "name": "stdout",
     "output_type": "stream",
     "text": [
      "min:  -2.0306179523468018 \n",
      "max:  9.682740653715882e-08 \n",
      "mean:  -1.3092733940164247 \n",
      "median:  -1.3604837656021118 \n",
      "variance:  0.1966961502974185\n"
     ]
    }
   ],
   "source": [
    "print('min: ',np.min(X_train), \n",
    "      '\\nmax: ', np.max(X_train), \n",
    "      '\\nmean: ', np.mean(X_train),\n",
    "      '\\nmedian: ', np.median(X_train),\n",
    "      '\\nvariance: ', np.var(X_train))"
   ]
  },
  {
   "cell_type": "code",
   "execution_count": 28,
   "metadata": {
    "scrolled": true
   },
   "outputs": [
    {
     "data": {
      "text/plain": [
       "(array([ 1228696.,   145193.,  3275026.,  7532802., 82702715., 22856648.,\n",
       "        16916705., 16934789., 16204832., 16512872., 17009321., 17513298.,\n",
       "        18006821., 18386293., 18671277., 18840052., 18900365., 18844455.,\n",
       "        18653069., 18317537., 17824610., 17199633., 16469783., 15675113.,\n",
       "        14854939., 14015966., 13175555., 12330033., 11511119., 10719554.,\n",
       "         9957441.,  9224338.,  8533548.,  7891582.,  7293816.,  6750723.,\n",
       "         6248039.,  5776133.,  5309989.,  4838909.,  4358126.,  3874961.,\n",
       "         3362954.,  2819091.,  2260820.,  1739511.,  1302868.,   864668.,\n",
       "          526419.,   242073.]),\n",
       " array([-2.03061795e+00, -1.99000559e+00, -1.94939323e+00, -1.90878087e+00,\n",
       "        -1.86816851e+00, -1.82755615e+00, -1.78694379e+00, -1.74633143e+00,\n",
       "        -1.70571906e+00, -1.66510670e+00, -1.62449434e+00, -1.58388198e+00,\n",
       "        -1.54326962e+00, -1.50265726e+00, -1.46204490e+00, -1.42143254e+00,\n",
       "        -1.38082018e+00, -1.34020782e+00, -1.29959545e+00, -1.25898309e+00,\n",
       "        -1.21837073e+00, -1.17775837e+00, -1.13714601e+00, -1.09653365e+00,\n",
       "        -1.05592129e+00, -1.01530893e+00, -9.74696567e-01, -9.34084206e-01,\n",
       "        -8.93471845e-01, -8.52859484e-01, -8.12247123e-01, -7.71634762e-01,\n",
       "        -7.31022401e-01, -6.90410040e-01, -6.49797679e-01, -6.09185318e-01,\n",
       "        -5.68572957e-01, -5.27960596e-01, -4.87348235e-01, -4.46735874e-01,\n",
       "        -4.06123513e-01, -3.65511152e-01, -3.24898791e-01, -2.84286430e-01,\n",
       "        -2.43674069e-01, -2.03061708e-01, -1.62449347e-01, -1.21836986e-01,\n",
       "        -8.12246251e-02, -4.06122642e-02,  9.68274065e-08]),\n",
       " <a list of 50 Patch objects>)"
      ]
     },
     "execution_count": 28,
     "metadata": {},
     "output_type": "execute_result"
    },
    {
     "data": {
      "image/png": "[encoded data removed]",
      "text/plain": [
       "<matplotlib.figure.Figure at 0x7fd8ba3f50b8>"
      ]
     },
     "metadata": {},
     "output_type": "display_data"
    }
   ],
   "source": [
    "plt.hist(X_train.flatten(), bins = 50)"
   ]
  },
  {
   "cell_type": "markdown",
   "metadata": {},
   "source": [
    "save the training sets, add channel dimension for keras,\n",
    "normalize around zero"
   ]
  },
  {
   "cell_type": "code",
   "execution_count": 29,
   "metadata": {},
   "outputs": [],
   "source": [
    "np.save('data/X_train.npy', np.expand_dims(X_train, -1)+1.3)\n",
    "np.save('data/Y_train.npy', Y_train.astype(np.int))\n",
    "np.save('data/Y_train_all.npy', Y_train_all.astype(np.int))"
   ]
  },
  {
   "cell_type": "code",
   "execution_count": 30,
   "metadata": {},
   "outputs": [
    {
     "name": "stdout",
     "output_type": "stream",
     "text": [
      "0 three/8910e5ef_nohash_0.wav\n",
      "2000 off/c6ee87a7_nohash_4.wav\n",
      "4000 up/d197e3ae_nohash_1.wav\n",
      "6000 three/c2d15ea5_nohash_1.wav\n"
     ]
    }
   ],
   "source": [
    "X_val, Y_val_all = create_sets(file_list = validation_list)"
   ]
  },
  {
   "cell_type": "code",
   "execution_count": 31,
   "metadata": {},
   "outputs": [],
   "source": [
    "Y_val = np.where(Y_val_all < 11, Y_val_all, 11)"
   ]
  },
  {
   "cell_type": "code",
   "execution_count": 32,
   "metadata": {},
   "outputs": [
    {
     "data": {
      "text/plain": [
       "(array([  154940.,    18034.,   411645.,   957655., 10308998.,  2858934.,\n",
       "         2146572.,  2155738.,  2049890.,  2059567.,  2087878.,  2115111.,\n",
       "         2131926.,  2143096.,  2147216.,  2145486.,  2141127.,  2122224.,\n",
       "         2092951.,  2052708.,  2001016.,  1937831.,  1861559.,  1778916.,\n",
       "         1684342.,  1583813.,  1480579.,  1375775.,  1280530.,  1183247.,\n",
       "         1094346.,  1015542.,   940413.,   874785.,   811776.,   751289.,\n",
       "          699219.,   648563.,   594666.,   546062.,   497429.,   447748.,\n",
       "          394618.,   331298.,   265489.,   202657.,   148109.,    99220.,\n",
       "           61790.,    26107.]),\n",
       " array([-2.03061795e+00, -1.99000559e+00, -1.94939323e+00, -1.90878087e+00,\n",
       "        -1.86816851e+00, -1.82755615e+00, -1.78694379e+00, -1.74633143e+00,\n",
       "        -1.70571906e+00, -1.66510670e+00, -1.62449434e+00, -1.58388198e+00,\n",
       "        -1.54326962e+00, -1.50265726e+00, -1.46204490e+00, -1.42143254e+00,\n",
       "        -1.38082018e+00, -1.34020782e+00, -1.29959546e+00, -1.25898309e+00,\n",
       "        -1.21837073e+00, -1.17775837e+00, -1.13714601e+00, -1.09653365e+00,\n",
       "        -1.05592129e+00, -1.01530893e+00, -9.74696568e-01, -9.34084207e-01,\n",
       "        -8.93471846e-01, -8.52859485e-01, -8.12247124e-01, -7.71634763e-01,\n",
       "        -7.31022402e-01, -6.90410041e-01, -6.49797680e-01, -6.09185319e-01,\n",
       "        -5.68572958e-01, -5.27960597e-01, -4.87348236e-01, -4.46735875e-01,\n",
       "        -4.06123514e-01, -3.65511153e-01, -3.24898793e-01, -2.84286432e-01,\n",
       "        -2.43674071e-01, -2.03061710e-01, -1.62449349e-01, -1.21836988e-01,\n",
       "        -8.12246268e-02, -4.06122659e-02,  9.50593204e-08]),\n",
       " <a list of 50 Patch objects>)"
      ]
     },
     "execution_count": 32,
     "metadata": {},
     "output_type": "execute_result"
    },
    {
     "data": {
      "image/png": "[encoded data removed]",
      "text/plain": [
       "<matplotlib.figure.Figure at 0x7fd8ba3a8d68>"
      ]
     },
     "metadata": {},
     "output_type": "display_data"
    }
   ],
   "source": [
    "plt.hist(X_val.flatten(), bins = 50)"
   ]
  },
  {
   "cell_type": "code",
   "execution_count": 33,
   "metadata": {},
   "outputs": [],
   "source": [
    "np.save('data/X_val.npy', np.expand_dims(X_val, -1)+1.3)\n",
    "np.save('data/Y_val.npy', Y_val.astype(np.int))\n",
    "np.save('data/Y_val_all.npy', Y_val_all.astype(np.int))"
   ]
  },
  {
   "cell_type": "code",
   "execution_count": null,
   "metadata": {},
   "outputs": [],
   "source": []
  }
 ],
 "metadata": {
  "kernelspec": {
   "display_name": "Python 3",
   "language": "python",
   "name": "python3"
  },
  "language_info": {
   "codemirror_mode": {
    "name": "ipython",
    "version": 3
   },
   "file_extension": ".py",
   "mimetype": "text/x-python",
   "name": "python",
   "nbconvert_exporter": "python",
   "pygments_lexer": "ipython3",
   "version": "3.5.4"
  }
 },
 "nbformat": 4,
 "nbformat_minor": 2
}

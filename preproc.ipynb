{
 "cells": [
  {
   "cell_type": "markdown",
   "metadata": {},
   "source": [
    "### pre processing\n"
   ]
  },
  {
   "cell_type": "code",
   "execution_count": 7,
   "metadata": {},
   "outputs": [],
   "source": [
    "import numpy as np\n",
    "import librosa\n",
    "import librosa.display\n",
    "from scipy.io import wavfile\n",
    "import os\n",
    "import csv\n",
    "from collections import Counter"
   ]
  },
  {
   "cell_type": "code",
   "execution_count": 2,
   "metadata": {},
   "outputs": [],
   "source": [
    "train_dir = './data/train/audio/' #download files from kaggle\n",
    "\n",
    "classes = ['yes', 'no', \n",
    "           'up', 'down', \n",
    "           'left', 'right', \n",
    "           'on', 'off', \n",
    "           'stop', 'go', \n",
    "           'silence', 'unknown']"
   ]
  },
  {
   "cell_type": "markdown",
   "metadata": {},
   "source": [
    "run this cell to move the background noises folder out of the audio directory. We will create silence samples from these files after."
   ]
  },
  {
   "cell_type": "code",
   "execution_count": 5,
   "metadata": {
    "scrolled": true
   },
   "outputs": [
    {
     "name": "stdout",
     "output_type": "stream",
     "text": [
      "audio\n",
      "_background_noise_\n",
      "LICENSE\n",
      "README.md\n",
      "testing_list.txt\n",
      "validation_list.txt\n"
     ]
    }
   ],
   "source": [
    "%%bash\n",
    "mv data/train/audio/_background_noise_ data/train\n",
    "ls data/train"
   ]
  },
  {
   "cell_type": "markdown",
   "metadata": {},
   "source": [
    "Split all the audio files from \\_background\\_noises\\_ folder in 1-sec chunks"
   ]
  },
  {
   "cell_type": "code",
   "execution_count": 19,
   "metadata": {},
   "outputs": [],
   "source": [
    "def split_arr(arr):\n",
    "    \"\"\"\n",
    "    split an array into chunks of length 16000\n",
    "    Returns:\n",
    "        list of arrays\n",
    "    \"\"\"\n",
    "    return np.split(arr, np.arange(16000, len(arr), 16000))"
   ]
  },
  {
   "cell_type": "code",
   "execution_count": 43,
   "metadata": {},
   "outputs": [],
   "source": [
    "def create_silence():\n",
    "    \"\"\"\n",
    "    reads wav files in background noises folder, splits them and saves to silence folder in train_dir\n",
    "    \"\"\"\n",
    "    for file in os.listdir('data/train/_background_noise_/'):\n",
    "        if 'wav' in file:\n",
    "            sig, rate = librosa.load('data/train/_background_noise_/' + file, sr = 16000)        \n",
    "            sig_arr = split_arr(sig)\n",
    "            if not os.path.exists(train_dir+'silence/'):\n",
    "                os.makedirs(train_dir+'silence/')\n",
    "            for ind, arr in enumerate(sig_arr):\n",
    "                filename = 'frag%d' %ind + '_%s' %file # example: frag0_running_tap.wav\n",
    "                librosa.output.write_wav(train_dir+'silence/'+filename, arr, 16000)\n",
    "  "
   ]
  },
  {
   "cell_type": "code",
   "execution_count": 27,
   "metadata": {},
   "outputs": [],
   "source": [
    "create_silence()"
   ]
  },
  {
   "cell_type": "markdown",
   "metadata": {},
   "source": [
    "three lists with file names. one for training set, one for validation set, one for all. Plus a dictionary with file counts per class."
   ]
  },
  {
   "cell_type": "code",
   "execution_count": 37,
   "metadata": {},
   "outputs": [],
   "source": [
    "folders = os.listdir(train_dir)"
   ]
  },
  {
   "cell_type": "code",
   "execution_count": 38,
   "metadata": {},
   "outputs": [],
   "source": [
    "with open('./data/train/validation_list.txt') as val_list:\n",
    "    validation_list = [row[0] for row in csv.reader(val_list)]\n",
    "assert len(validation_list) == 6798, 'file not loaded'\n",
    "\n",
    "\"\"\"\n",
    "#if you want to add the files in testing_list.txt to the validation list:\n",
    "\n",
    "with open('./data/train/testing_list.txt') as test_list:\n",
    "    testing_list = [row[0] for row in csv.reader(test_list)]\n",
    "assert len(testing_list) == 6835, 'file not loaded'\n",
    "\n",
    "#combine into validation set\n",
    "validation_list.extend(testing_list)\n",
    "\"\"\"\n",
    "#add silence files to validation_list\n",
    "for i, file in enumerate(os.listdir(train_dir + 'silence/')):\n",
    "    if i%10==0:\n",
    "        validation_list.append('silence/'+file)\n",
    "\n",
    "training_list = []\n",
    "all_files_list = []\n",
    "class_counts = {}\n",
    "\n",
    "for folder in folders:\n",
    "    files = os.listdir(train_dir + folder)\n",
    "    for i, f in enumerate(files):\n",
    "        all_files_list.append(folder + '/' + f)\n",
    "        path = folder + '/' + f\n",
    "        if path not in validation_list:\n",
    "            training_list.append(folder + '/' + f)        \n",
    "        class_counts[folder] = i\n",
    "\n",
    "#remove filenames from validation_list that don't exist anymore (due to eda)\n",
    "validation_list = list(set(validation_list).intersection(all_files_list))"
   ]
  },
  {
   "cell_type": "code",
   "execution_count": 39,
   "metadata": {},
   "outputs": [],
   "source": [
    "assert len(validation_list)+len(training_list)==len(all_files_list), 'error'"
   ]
  },
  {
   "cell_type": "code",
   "execution_count": 40,
   "metadata": {},
   "outputs": [
    {
     "name": "stdout",
     "output_type": "stream",
     "text": [
      "yes/15f04ff8_nohash_0.wav size training set:  58284 size validation set:  6839\n"
     ]
    }
   ],
   "source": [
    "# check random file name\n",
    "print(training_list[345], 'size training set: ',len(training_list), 'size validation set: ', len(validation_list))"
   ]
  },
  {
   "cell_type": "code",
   "execution_count": 42,
   "metadata": {},
   "outputs": [
    {
     "name": "stdout",
     "output_type": "stream",
     "text": [
      "{'bird': 1730, 'marvin': 1745, 'sheila': 1733, 'down': 2358, 'wow': 1744, 'five': 2356, 'stop': 2379, 'tree': 1732, 'left': 2352, 'cat': 1732, 'eight': 2351, 'right': 2366, 'happy': 1741, 'zero': 2375, 'bed': 1712, 'three': 2355, 'one': 2369, 'dog': 1745, 'four': 2371, 'go': 2371, 'no': 2374, 'up': 2374, 'house': 1749, 'six': 2368, 'yes': 2376, 'two': 2372, 'silence': 401, 'off': 2356, 'nine': 2363, 'on': 2366, 'seven': 2376}\n"
     ]
    }
   ],
   "source": [
    "print(class_counts)"
   ]
  },
  {
   "cell_type": "markdown",
   "metadata": {},
   "source": [
    "### turn all wav files into spectrograms"
   ]
  },
  {
   "cell_type": "code",
   "execution_count": 44,
   "metadata": {},
   "outputs": [],
   "source": [
    "def make_spec(file, file_dir = train_dir, flip = False, ps = False, st = 4):\n",
    "    \"\"\"\n",
    "    create a melspectrogram from the amplitude of the sound\n",
    "    \n",
    "    Args:\n",
    "        file (str): filename\n",
    "        file_dir (str): directory path\n",
    "        flip (bool): reverse time axis\n",
    "        ps (bool): pitch shift\n",
    "        st (int): half-note steps for pitch shift\n",
    "    Returns:\n",
    "        np.array with shape (122,85) (time, freq)\n",
    "    \"\"\"\n",
    "    sig, rate = librosa.load(file_dir + file, sr = 16000)\n",
    "    if len(sig) < 16000: # pad shorter than 1 sec audio with zeros\n",
    "        sig = np.pad(sig, (0,16000-len(sig)), 'constant', constant_values = 0)\n",
    "    if ps:\n",
    "        sig = librosa.effects.pitch_shift(sig, rate, st)\n",
    "    D = librosa.amplitude_to_db(librosa.stft(sig[:16000], n_fft = 512, \n",
    "                                             hop_length = 128, \n",
    "                                             center = False), ref = np.max)\n",
    "    S = librosa.feature.melspectrogram(S=D, n_mels = 85).T\n",
    "    if flip:\n",
    "        S = np.flipud(S)\n",
    "    return S.astype(np.float32)"
   ]
  },
  {
   "cell_type": "code",
   "execution_count": null,
   "metadata": {},
   "outputs": [],
   "source": []
  }
 ],
 "metadata": {
  "kernelspec": {
   "display_name": "Python 3",
   "language": "python",
   "name": "python3"
  },
  "language_info": {
   "codemirror_mode": {
    "name": "ipython",
    "version": 3
   },
   "file_extension": ".py",
   "mimetype": "text/x-python",
   "name": "python",
   "nbconvert_exporter": "python",
   "pygments_lexer": "ipython3",
   "version": "3.5.4"
  }
 },
 "nbformat": 4,
 "nbformat_minor": 2
}

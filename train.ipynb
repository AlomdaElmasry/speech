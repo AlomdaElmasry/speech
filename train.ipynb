{
 "cells": [
  {
   "cell_type": "markdown",
   "metadata": {},
   "source": [
    "## What to do?\n",
    "\n",
    "Just run the cells that you need.\n",
    "There's different sections for the different model architectures"
   ]
  },
  {
   "cell_type": "code",
   "execution_count": 37,
   "metadata": {},
   "outputs": [],
   "source": [
    "import numpy as np\n",
    "from keras.callbacks import ModelCheckpoint, TensorBoard, EarlyStopping\n",
    "from keras.utils import to_categorical, plot_model\n",
    "from time import time\n",
    "from models import ResNet\n",
    "from collections import Counter\n",
    "import matplotlib.pyplot as plt\n",
    "import os\n",
    "%matplotlib inline\n",
    "from sklearn.metrics import classification_report, confusion_matrix   \n"
   ]
  },
  {
   "cell_type": "markdown",
   "metadata": {},
   "source": [
    "import training and validation data\n",
    "not included in repo, set your own folder location"
   ]
  },
  {
   "cell_type": "code",
   "execution_count": 3,
   "metadata": {},
   "outputs": [],
   "source": [
    "X_train = np.load('./data/X_train.npy')\n",
    "Y_train = np.load('./data/Y_train.npy')\n",
    "X_val = np.load('./data/X_val.npy')\n",
    "Y_val = np.load('./data/Y_val.npy')"
   ]
  },
  {
   "cell_type": "code",
   "execution_count": 38,
   "metadata": {},
   "outputs": [
    {
     "name": "stdout",
     "output_type": "stream",
     "text": [
      "['yes', 'no', 'up', 'down', 'left', 'right', 'on', 'off', 'stop', 'go', 'silence', 'house', 'nine', 'four', 'happy', 'wow', 'five', 'zero', 'tree', 'six', 'one', 'three', 'eight', 'cat', 'two', 'seven', 'marvin', 'dog', 'sheila', 'bed', 'bird']\n"
     ]
    }
   ],
   "source": [
    "classes = ['yes', 'no', \n",
    "           'up', 'down', \n",
    "           'left', 'right', \n",
    "           'on', 'off', \n",
    "           'stop', 'go', \n",
    "           'silence', 'unknown']\n",
    "\n",
    "all_classes = [x for x in classes[:11]]\n",
    "for ind, cl in enumerate(os.listdir('data/train/audio/')):\n",
    "    if cl not in classes:\n",
    "        all_classes.append(cl)\n",
    "print(all_classes)"
   ]
  },
  {
   "cell_type": "markdown",
   "metadata": {},
   "source": [
    "The training data is very unbalanced with a much larger 'unknown' class.\n",
    "keras has a class_weight paramter in the fit() function that will give higher penalties to missclassifications in underrepresented classes. It takes a dict like this:"
   ]
  },
  {
   "cell_type": "code",
   "execution_count": 5,
   "metadata": {},
   "outputs": [],
   "source": [
    "def get_class_weights(y):\n",
    "    counter = Counter(y)\n",
    "    majority = max(counter.values())\n",
    "    return  {cls: float(majority/count) for cls, count in counter.items()}  \n",
    "\n",
    "class_weights = get_class_weights(Y_train)\n"
   ]
  },
  {
   "cell_type": "code",
   "execution_count": 6,
   "metadata": {},
   "outputs": [
    {
     "data": {
      "text/plain": [
       "{0.0: 17.399810964083176,\n",
       " 1.0: 17.490736342042755,\n",
       " 2.0: 17.4080378250591,\n",
       " 3.0: 17.574224343675418,\n",
       " 4.0: 17.482431149097817,\n",
       " 5.0: 17.441023211747986,\n",
       " 6.0: 17.449289099526066,\n",
       " 7.0: 17.52403617325083,\n",
       " 8.0: 17.253045923149017,\n",
       " 9.0: 17.432765151515152,\n",
       " 10.0: 101.98891966759003,\n",
       " 11.0: 1.0}"
      ]
     },
     "execution_count": 6,
     "metadata": {},
     "output_type": "execute_result"
    }
   ],
   "source": [
    "class_weights"
   ]
  },
  {
   "cell_type": "markdown",
   "metadata": {},
   "source": [
    "some constants we need for all models"
   ]
  },
  {
   "cell_type": "code",
   "execution_count": 7,
   "metadata": {},
   "outputs": [],
   "source": [
    "input_size = X_train.shape[1:]\n",
    "batch_size = 196"
   ]
  },
  {
   "cell_type": "markdown",
   "metadata": {},
   "source": [
    "## First the ResNet\n",
    "declare filters for each block of blocks and set output size."
   ]
  },
  {
   "cell_type": "code",
   "execution_count": 8,
   "metadata": {},
   "outputs": [],
   "source": [
    "filters_list = [8,16,32]\n",
    "output_size = 12\n",
    "\n",
    "#adjust these strings for organizeing the saved files\n",
    "date = '1003'\n",
    "arch = 'resnet8_16_32'"
   ]
  },
  {
   "cell_type": "markdown",
   "metadata": {},
   "source": [
    "Build the model"
   ]
  },
  {
   "cell_type": "code",
   "execution_count": 18,
   "metadata": {},
   "outputs": [],
   "source": [
    "sr = ResNet(filters_list, input_size, output_size)\n",
    "sr.build()\n",
    "sr.m.compile(loss='categorical_crossentropy', \n",
    "             optimizer='adadelta', \n",
    "             metrics=['accuracy'])"
   ]
  },
  {
   "cell_type": "code",
   "execution_count": 19,
   "metadata": {},
   "outputs": [],
   "source": [
    "# to save a png of the model you need pydot and graphviz installed\n",
    "plot_model(sr.m, \n",
    "           to_file = './models/{}_{}.png'.format(arch,date), \n",
    "           show_shapes = True)"
   ]
  },
  {
   "cell_type": "code",
   "execution_count": 20,
   "metadata": {},
   "outputs": [],
   "source": [
    "#callbacks, remember to make folders to store files \n",
    "checkpointer = ModelCheckpoint(filepath='./models/{}_{}_best.h5'.format(arch, date),\n",
    "                               verbose=0,\n",
    "                               save_best_only=True)\n",
    "   \n",
    "earlystopping = EarlyStopping()\n",
    "\n",
    "tensorboard = TensorBoard(log_dir = './logs/{}_{}'.format(date, time()), \n",
    "                          histogram_freq = 0, \n",
    "                          write_graph = True, \n",
    "                          write_images = True)"
   ]
  },
  {
   "cell_type": "markdown",
   "metadata": {},
   "source": [
    "train the model\n",
    "the history object stores training data for later access, like plotting training curves"
   ]
  },
  {
   "cell_type": "code",
   "execution_count": 21,
   "metadata": {},
   "outputs": [
    {
     "name": "stdout",
     "output_type": "stream",
     "text": [
      "Train on 58284 samples, validate on 6839 samples\n",
      "Epoch 1/5\n",
      "58284/58284 [==============================] - 34s 587us/step - loss: 9.2704 - acc: 0.3831 - val_loss: 7.5152 - val_acc: 0.1405\n",
      "Epoch 2/5\n",
      "58284/58284 [==============================] - 30s 521us/step - loss: 3.0444 - acc: 0.7537 - val_loss: 0.6088 - val_acc: 0.8027\n",
      "Epoch 3/5\n",
      "58284/58284 [==============================] - 31s 528us/step - loss: 2.0519 - acc: 0.8388 - val_loss: 0.4001 - val_acc: 0.8893\n",
      "Epoch 4/5\n",
      "58284/58284 [==============================] - 31s 528us/step - loss: 1.6024 - acc: 0.8799 - val_loss: 3.2375 - val_acc: 0.4138\n",
      "Epoch 5/5\n",
      "58284/58284 [==============================] - 31s 534us/step - loss: 1.3478 - acc: 0.8977 - val_loss: 2.7000 - val_acc: 0.4758\n"
     ]
    }
   ],
   "source": [
    "history = sr.m.fit(X_train, \n",
    "                   to_categorical(Y_train), \n",
    "                   batch_size = batch_size, \n",
    "                   epochs = 5, \n",
    "                   verbose = 1, shuffle = True, \n",
    "                   class_weight = class_weights,\n",
    "                   validation_data = (X_val, to_categorical(Y_val)), \n",
    "                   callbacks = [checkpointer]) # add more callbacks if you want"
   ]
  },
  {
   "cell_type": "code",
   "execution_count": 22,
   "metadata": {},
   "outputs": [],
   "source": [
    "sr.m.save_weights(\"./models/{}_{}_last.h5\".format(arch, date)) \n"
   ]
  },
  {
   "cell_type": "markdown",
   "metadata": {},
   "source": [
    "plot the training graphs, and save them"
   ]
  },
  {
   "cell_type": "code",
   "execution_count": 23,
   "metadata": {
    "scrolled": true
   },
   "outputs": [
    {
     "name": "stdout",
     "output_type": "stream",
     "text": [
      "dict_keys(['val_loss', 'acc', 'loss', 'val_acc'])\n"
     ]
    },
    {
     "data": {
      "image/png": "[encoded data removed]",
      "text/plain": [
       "<matplotlib.figure.Figure at 0x7f2e0bcb7cf8>"
      ]
     },
     "metadata": {},
     "output_type": "display_data"
    },
    {
     "data": {
      "image/png": "[encoded data removed]",
      "text/plain": [
       "<matplotlib.figure.Figure at 0x7f2e0bc6b518>"
      ]
     },
     "metadata": {},
     "output_type": "display_data"
    }
   ],
   "source": [
    "#%% visualize training\n",
    "print(history.history.keys())\n",
    "# summarize history for accuracy\n",
    "plt.plot(history.history['acc'])\n",
    "plt.plot(history.history['val_acc'])\n",
    "plt.title('model accuracy')\n",
    "plt.ylabel('accuracy')\n",
    "plt.xlabel('epoch')\n",
    "plt.legend(['train', 'test'], loc='upper left')\n",
    "plt.savefig('graphs/{}_{}_acc.png'.format(arch, date),bbox_inches='tight')\n",
    "plt.show()\n",
    "# summarize history for loss\n",
    "plt.plot(history.history['loss'])\n",
    "plt.plot(history.history['val_loss'])\n",
    "plt.title('model loss')\n",
    "plt.ylabel('loss')\n",
    "plt.xlabel('epoch')\n",
    "plt.legend(['train', 'test'], loc='upper left')\n",
    "plt.savefig('graphs/{}_{}_loss.png'.format(arch, date), bbox_inches='tight')\n",
    "plt.show()"
   ]
  },
  {
   "cell_type": "markdown",
   "metadata": {},
   "source": [
    "predict the validation classification and score"
   ]
  },
  {
   "cell_type": "code",
   "execution_count": 25,
   "metadata": {},
   "outputs": [
    {
     "name": "stdout",
     "output_type": "stream",
     "text": [
      "6839/6839 [==============================] - 2s 221us/step\n"
     ]
    }
   ],
   "source": [
    "val_pred = sr.m.predict(X_val, batch_size = batch_size, verbose = 1)"
   ]
  },
  {
   "cell_type": "code",
   "execution_count": 32,
   "metadata": {},
   "outputs": [
    {
     "name": "stdout",
     "output_type": "stream",
     "text": [
      "             precision    recall  f1-score   support\n",
      "\n",
      "        yes      0.420     0.939     0.581       261\n",
      "         no      0.696     0.933     0.797       270\n",
      "         up      0.927     0.442     0.599       260\n",
      "       down      0.210     0.966     0.345       264\n",
      "       left      0.265     0.980     0.418       247\n",
      "      right      0.213     0.977     0.349       256\n",
      "         on      0.914     0.743     0.820       257\n",
      "        off      0.544     0.980     0.700       256\n",
      "       stop      0.757     0.911     0.827       246\n",
      "         go      0.462     0.862     0.601       260\n",
      "    silence      0.759     1.000     0.863        41\n",
      "    unknown      1.000     0.228     0.372      4221\n",
      "\n",
      "avg / total      0.826     0.476     0.462      6839\n",
      "\n"
     ]
    }
   ],
   "source": [
    "print(classification_report(Y_val, np.argmax(val_pred, axis = 1), target_names = classes, digits = 3))"
   ]
  },
  {
   "cell_type": "code",
   "execution_count": 34,
   "metadata": {
    "scrolled": true
   },
   "outputs": [
    {
     "name": "stdout",
     "output_type": "stream",
     "text": [
      "[[245   1   0   2  10   0   0   0   0   2   1   0]\n",
      " [  0 252   0   1   5   1   0   0   0  11   0   0]\n",
      " [  0   0 115   4  43   4   0  88   2   4   0   0]\n",
      " [  0   5   0 255   1   0   0   0   1   2   0   0]\n",
      " [  0   1   0   1 242   3   0   0   0   0   0   0]\n",
      " [  1   0   0   0   3 250   0   1   0   1   0   0]\n",
      " [  0   0   0  18   2  21 191  23   0   1   1   0]\n",
      " [  0   0   0   0   2   0   1 251   0   2   0   0]\n",
      " [  1   0   0   8   5   1   0   5 224   1   1   0]\n",
      " [  0   9   1  14   7   1   0   2   0 224   2   0]\n",
      " [  0   0   0   0   0   0   0   0   0   0  41   0]\n",
      " [336  94   8 911 592 894  17  91  69 237   8 964]]\n"
     ]
    }
   ],
   "source": [
    "print(confusion_matrix(Y_val, np.argmax(val_pred, axis = 1)))"
   ]
  },
  {
   "cell_type": "markdown",
   "metadata": {},
   "source": [
    "## Now the CTC model"
   ]
  },
  {
   "cell_type": "code",
   "execution_count": null,
   "metadata": {},
   "outputs": [],
   "source": [
    "# dummy loss\n",
    "def ctc(y_true, y_pred):\n",
    "    return y_pred"
   ]
  }
 ],
 "metadata": {
  "kernelspec": {
   "display_name": "Python 3",
   "language": "python",
   "name": "python3"
  },
  "language_info": {
   "codemirror_mode": {
    "name": "ipython",
    "version": 3
   },
   "file_extension": ".py",
   "mimetype": "text/x-python",
   "name": "python",
   "nbconvert_exporter": "python",
   "pygments_lexer": "ipython3",
   "version": "3.5.4"
  }
 },
 "nbformat": 4,
 "nbformat_minor": 2
}

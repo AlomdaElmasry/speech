{
 "cells": [
  {
   "cell_type": "markdown",
   "metadata": {},
   "source": [
    "## What to do?\n",
    "\n",
    "Just run the cells that you need.\n",
    "There's different sections for the different model architectures"
   ]
  },
  {
   "cell_type": "code",
   "execution_count": 20,
   "metadata": {},
   "outputs": [],
   "source": [
    "import numpy as np\n",
    "from keras.callbacks import ModelCheckpoint, TensorBoard, EarlyStopping\n",
    "from keras.utils import to_categorical, plot_model\n",
    "from keras import backend as K\n",
    "from time import time\n",
    "from models import ResNet\n",
    "from collections import Counter\n",
    "import matplotlib.pyplot as plt\n",
    "import os\n",
    "%matplotlib inline\n",
    "from sklearn.metrics import classification_report, confusion_matrix   \n"
   ]
  },
  {
   "cell_type": "markdown",
   "metadata": {},
   "source": [
    "import training and validation data\n",
    "not included in repo, set your own folder location"
   ]
  },
  {
   "cell_type": "code",
   "execution_count": 2,
   "metadata": {},
   "outputs": [],
   "source": [
    "X_train = np.load('./data/X_train.npy')\n",
    "Y_train = np.load('./data/Y_train.npy')\n",
    "X_val = np.load('./data/X_val.npy')\n",
    "Y_val = np.load('./data/Y_val.npy')"
   ]
  },
  {
   "cell_type": "code",
   "execution_count": 3,
   "metadata": {},
   "outputs": [
    {
     "name": "stdout",
     "output_type": "stream",
     "text": [
      "['yes', 'no', 'up', 'down', 'left', 'right', 'on', 'off', 'stop', 'go', 'silence', 'house', 'nine', 'four', 'happy', 'wow', 'five', 'zero', 'tree', 'six', 'one', 'three', 'eight', 'cat', 'two', 'seven', 'marvin', 'dog', 'sheila', 'bed', 'bird']\n"
     ]
    }
   ],
   "source": [
    "classes = ['yes', 'no', \n",
    "           'up', 'down', \n",
    "           'left', 'right', \n",
    "           'on', 'off', \n",
    "           'stop', 'go', \n",
    "           'silence', 'unknown']\n",
    "\n",
    "all_classes = [x for x in classes[:11]]\n",
    "for ind, cl in enumerate(os.listdir('data/train/audio/')):\n",
    "    if cl not in classes:\n",
    "        all_classes.append(cl)\n",
    "print(all_classes)"
   ]
  },
  {
   "cell_type": "markdown",
   "metadata": {},
   "source": [
    "The training data is very unbalanced with a much larger 'unknown' class.\n",
    "keras has a class_weight paramter in the fit() function that will give higher penalties to missclassifications in underrepresented classes. It takes a dict like this:"
   ]
  },
  {
   "cell_type": "code",
   "execution_count": null,
   "metadata": {},
   "outputs": [],
   "source": [
    "def get_class_weights(y):\n",
    "    counter = Counter(y)\n",
    "    majority = max(counter.values())\n",
    "    return  {cls: float(majority/count) for cls, count in counter.items()}  \n",
    "\n",
    "class_weights = get_class_weights(Y_train)\n"
   ]
  },
  {
   "cell_type": "code",
   "execution_count": null,
   "metadata": {},
   "outputs": [],
   "source": [
    "class_weights"
   ]
  },
  {
   "cell_type": "markdown",
   "metadata": {},
   "source": [
    "some constants we need for all models"
   ]
  },
  {
   "cell_type": "code",
   "execution_count": 4,
   "metadata": {},
   "outputs": [],
   "source": [
    "input_size = X_train.shape[1:]\n",
    "batch_size = 196"
   ]
  },
  {
   "cell_type": "markdown",
   "metadata": {},
   "source": [
    "## First the ResNet\n",
    "declare filters for each block of blocks and set output size."
   ]
  },
  {
   "cell_type": "code",
   "execution_count": null,
   "metadata": {},
   "outputs": [],
   "source": [
    "filters_list = [8,16,32]\n",
    "output_size = 12"
   ]
  },
  {
   "cell_type": "code",
   "execution_count": 5,
   "metadata": {},
   "outputs": [],
   "source": [
    "#adjust these strings for organizeing the saved files\n",
    "date = '1003'\n",
    "arch = 'resnet8_16_32'"
   ]
  },
  {
   "cell_type": "markdown",
   "metadata": {},
   "source": [
    "Build the model"
   ]
  },
  {
   "cell_type": "code",
   "execution_count": null,
   "metadata": {},
   "outputs": [],
   "source": [
    "sr = ResNet(filters_list, input_size, output_size)\n",
    "sr.build()\n",
    "sr.m.compile(loss='categorical_crossentropy', \n",
    "             optimizer='adadelta', \n",
    "             metrics=['accuracy'])"
   ]
  },
  {
   "cell_type": "code",
   "execution_count": null,
   "metadata": {},
   "outputs": [],
   "source": [
    "# to save a png of the model you need pydot and graphviz installed\n",
    "plot_model(sr.m, \n",
    "           to_file = './models/{}_{}.png'.format(arch,date), \n",
    "           show_shapes = True)"
   ]
  },
  {
   "cell_type": "code",
   "execution_count": null,
   "metadata": {},
   "outputs": [],
   "source": [
    "#callbacks, remember to make folders to store files \n",
    "checkpointer = ModelCheckpoint(filepath='./models/{}_{}_best.h5'.format(arch, date),\n",
    "                               verbose=0,\n",
    "                               save_best_only=True)\n",
    "   \n",
    "earlystopping = EarlyStopping()\n",
    "\n",
    "tensorboard = TensorBoard(log_dir = './logs/{}_{}'.format(date, time()), \n",
    "                          histogram_freq = 0, \n",
    "                          write_graph = True, \n",
    "                          write_images = True)"
   ]
  },
  {
   "cell_type": "markdown",
   "metadata": {},
   "source": [
    "train the model\n",
    "the history object stores training data for later access, like plotting training curves"
   ]
  },
  {
   "cell_type": "code",
   "execution_count": null,
   "metadata": {},
   "outputs": [],
   "source": [
    "history = sr.m.fit(X_train, \n",
    "                   to_categorical(Y_train), \n",
    "                   batch_size = batch_size, \n",
    "                   epochs = 5, \n",
    "                   verbose = 1, shuffle = True, \n",
    "                   class_weight = class_weights,\n",
    "                   validation_data = (X_val, to_categorical(Y_val)), \n",
    "                   callbacks = [checkpointer]) # add more callbacks if you want"
   ]
  },
  {
   "cell_type": "code",
   "execution_count": null,
   "metadata": {},
   "outputs": [],
   "source": [
    "sr.m.save_weights(\"./models/{}_{}_last.h5\".format(arch, date)) \n"
   ]
  },
  {
   "cell_type": "markdown",
   "metadata": {},
   "source": [
    "plot the training graphs, and save them"
   ]
  },
  {
   "cell_type": "code",
   "execution_count": null,
   "metadata": {
    "scrolled": true
   },
   "outputs": [],
   "source": [
    "#%% visualize training\n",
    "print(history.history.keys())\n",
    "# summarize history for accuracy\n",
    "plt.plot(history.history['acc'])\n",
    "plt.plot(history.history['val_acc'])\n",
    "plt.title('model accuracy')\n",
    "plt.ylabel('accuracy')\n",
    "plt.xlabel('epoch')\n",
    "plt.legend(['train', 'test'], loc='upper left')\n",
    "plt.savefig('graphs/{}_{}_acc.png'.format(arch, date),bbox_inches='tight')\n",
    "plt.show()\n",
    "# summarize history for loss\n",
    "plt.plot(history.history['loss'])\n",
    "plt.plot(history.history['val_loss'])\n",
    "plt.title('model loss')\n",
    "plt.ylabel('loss')\n",
    "plt.xlabel('epoch')\n",
    "plt.legend(['train', 'test'], loc='upper left')\n",
    "plt.savefig('graphs/{}_{}_loss.png'.format(arch, date), bbox_inches='tight')\n",
    "plt.show()"
   ]
  },
  {
   "cell_type": "markdown",
   "metadata": {},
   "source": [
    "predict the validation classification and score"
   ]
  },
  {
   "cell_type": "code",
   "execution_count": null,
   "metadata": {},
   "outputs": [],
   "source": [
    "val_pred = sr.m.predict(X_val, batch_size = batch_size, verbose = 1)"
   ]
  },
  {
   "cell_type": "code",
   "execution_count": null,
   "metadata": {},
   "outputs": [],
   "source": [
    "print(classification_report(Y_val, np.argmax(val_pred, axis = 1), target_names = classes, digits = 3))"
   ]
  },
  {
   "cell_type": "code",
   "execution_count": null,
   "metadata": {
    "scrolled": true
   },
   "outputs": [],
   "source": [
    "print(confusion_matrix(Y_val, np.argmax(val_pred, axis = 1)))"
   ]
  },
  {
   "cell_type": "markdown",
   "metadata": {},
   "source": [
    "## Now the CTC model"
   ]
  },
  {
   "cell_type": "code",
   "execution_count": 6,
   "metadata": {},
   "outputs": [],
   "source": [
    "from models import CTC, ctc_lambda_func #used in the CTC build method\n",
    "from ctc_utils import char_map, index_map, text_to_int, get_intseq, get_ctc_params"
   ]
  },
  {
   "cell_type": "code",
   "execution_count": 7,
   "metadata": {},
   "outputs": [],
   "source": [
    "# dummy loss\n",
    "def ctc(y_true, y_pred):\n",
    "    return y_pred"
   ]
  },
  {
   "cell_type": "markdown",
   "metadata": {},
   "source": [
    "The Conv1D layer at the top of the CTC model takes a 3-dimensional input, not 4 as the ResNet"
   ]
  },
  {
   "cell_type": "code",
   "execution_count": 8,
   "metadata": {},
   "outputs": [
    {
     "name": "stdout",
     "output_type": "stream",
     "text": [
      "WARNING:tensorflow:From /home/chris/.local/lib/python3.5/site-packages/tensorflow/python/util/deprecation.py:497: calling conv1d (from tensorflow.python.ops.nn_ops) with data_format=NHWC is deprecated and will be removed in a future version.\n",
      "Instructions for updating:\n",
      "`NHWC` for data_format is deprecated, use `NWC` instead\n"
     ]
    },
    {
     "data": {
      "text/plain": [
       "(<keras.engine.training.Model at 0x7f0d1cf29ef0>,\n",
       " <keras.engine.training.Model at 0x7f0d1d0297f0>)"
      ]
     },
     "execution_count": 8,
     "metadata": {},
     "output_type": "execute_result"
    }
   ],
   "source": [
    "sr_ctc = CTC((122,85), 28)\n",
    "sr_ctc.build()"
   ]
  },
  {
   "cell_type": "code",
   "execution_count": 9,
   "metadata": {},
   "outputs": [],
   "source": [
    "sr_ctc.m.compile(loss = ctc, optimizer = 'adam', metrics = ['accuracy'])\n",
    "sr_ctc.tm.compile(loss = ctc, optimizer = 'adam')"
   ]
  },
  {
   "cell_type": "code",
   "execution_count": 10,
   "metadata": {},
   "outputs": [],
   "source": [
    "Y_train_all = np.load('data/Y_train_all.npy')\n",
    "Y_val_all = np.load('data/Y_val_all.npy')"
   ]
  },
  {
   "cell_type": "markdown",
   "metadata": {},
   "source": [
    "get the ctc parameters needed for the three extra ctc model inputs"
   ]
  },
  {
   "cell_type": "code",
   "execution_count": 11,
   "metadata": {},
   "outputs": [],
   "source": [
    "labels, input_length, label_length = get_ctc_params(Y = Y_train_all, classes_list = all_classes)\n",
    "labels_val, input_length_val, label_length_val = get_ctc_params(Y = Y_val_all, classes_list = all_classes)"
   ]
  },
  {
   "cell_type": "code",
   "execution_count": 12,
   "metadata": {},
   "outputs": [],
   "source": [
    "checkpointer = ModelCheckpoint(filepath=\"./models/ctc_{}_best.h5\".format(date),\n",
    "                               verbose=0,\n",
    "                               save_best_only=True)"
   ]
  },
  {
   "cell_type": "code",
   "execution_count": 13,
   "metadata": {},
   "outputs": [
    {
     "name": "stdout",
     "output_type": "stream",
     "text": [
      "Train on 58284 samples, validate on 6839 samples\n",
      "Epoch 1/10\n",
      "58284/58284 [==============================] - 55s 948us/step - loss: 15.3560 - acc: 2.5736e-04 - val_loss: 7.7532 - val_acc: 0.0037\n",
      "Epoch 2/10\n",
      "58284/58284 [==============================] - 43s 738us/step - loss: 6.7910 - acc: 0.0018 - val_loss: 4.0261 - val_acc: 0.0382\n",
      "Epoch 3/10\n",
      "58284/58284 [==============================] - 43s 737us/step - loss: 4.3295 - acc: 0.0228 - val_loss: 2.3477 - val_acc: 0.3166\n",
      "Epoch 4/10\n",
      "58284/58284 [==============================] - 43s 738us/step - loss: 3.0047 - acc: 0.1354 - val_loss: 1.8347 - val_acc: 0.6255\n",
      "Epoch 5/10\n",
      "58284/58284 [==============================] - 43s 738us/step - loss: 2.2466 - acc: 0.3186 - val_loss: 1.5292 - val_acc: 0.7150\n",
      "Epoch 6/10\n",
      "58284/58284 [==============================] - 43s 741us/step - loss: 1.8402 - acc: 0.4583 - val_loss: 1.4793 - val_acc: 0.7943\n",
      "Epoch 7/10\n",
      "58284/58284 [==============================] - 43s 746us/step - loss: 1.5869 - acc: 0.5547 - val_loss: 1.5747 - val_acc: 0.7916\n",
      "Epoch 8/10\n",
      "58284/58284 [==============================] - 43s 740us/step - loss: 1.4026 - acc: 0.6264 - val_loss: 1.5587 - val_acc: 0.7900\n",
      "Epoch 9/10\n",
      "58284/58284 [==============================] - 43s 743us/step - loss: 1.2704 - acc: 0.6768 - val_loss: 1.4310 - val_acc: 0.8218\n",
      "Epoch 10/10\n",
      "58284/58284 [==============================] - 43s 740us/step - loss: 1.1757 - acc: 0.7098 - val_loss: 1.2696 - val_acc: 0.8492\n"
     ]
    }
   ],
   "source": [
    "history = sr_ctc.m.fit([np.squeeze(X_train), \n",
    "                            labels, \n",
    "                            input_length, \n",
    "                            label_length], \n",
    "                       np.zeros([len(Y_train_all)]), \n",
    "                       batch_size = 128, \n",
    "                       epochs = 10, \n",
    "                       validation_data = ([np.squeeze(X_val), \n",
    "                                           labels_val, \n",
    "                                           input_length_val, \n",
    "                                           label_length_val],\n",
    "                                          np.zeros([len(Y_val_all)])), \n",
    "                       callbacks = [checkpointer], \n",
    "                       verbose = 1, shuffle = True)\n"
   ]
  },
  {
   "cell_type": "code",
   "execution_count": 14,
   "metadata": {},
   "outputs": [],
   "source": [
    "sr_ctc.m.save_weights('./models/ctc_{}.h5'.format(date))\n",
    "sr_ctc.tm.load_weights('./models/ctc_{}_best.h5'.format(date))"
   ]
  },
  {
   "cell_type": "code",
   "execution_count": 15,
   "metadata": {},
   "outputs": [
    {
     "name": "stdout",
     "output_type": "stream",
     "text": [
      "dict_keys(['loss', 'val_acc', 'val_loss', 'acc'])\n"
     ]
    },
    {
     "data": {
      "image/png": "[encoded data removed]",
      "text/plain": [
       "<matplotlib.figure.Figure at 0x7f0d1a79f828>"
      ]
     },
     "metadata": {},
     "output_type": "display_data"
    },
    {
     "data": {
      "image/png": "[encoded data removed]",
      "text/plain": [
       "<matplotlib.figure.Figure at 0x7f0d1a755cc0>"
      ]
     },
     "metadata": {},
     "output_type": "display_data"
    }
   ],
   "source": [
    "# plot\n",
    "print(history.history.keys())\n",
    "# summarize history for accuracy\n",
    "plt.plot(history.history['acc'])\n",
    "plt.plot(history.history['val_acc'])\n",
    "plt.title('model accuracy')\n",
    "plt.ylabel('accuracy')\n",
    "plt.xlabel('epoch')\n",
    "plt.legend(['train', 'test'], loc='upper left')\n",
    "plt.savefig('graphs/ctc_{}_acc.png'.format(date),bbox_inches='tight')\n",
    "plt.show()\n",
    "# summarize history for loss\n",
    "plt.plot(history.history['loss'])\n",
    "plt.plot(history.history['val_loss'])\n",
    "plt.title('model loss')\n",
    "plt.ylabel('loss')\n",
    "plt.xlabel('epoch')\n",
    "plt.legend(['train', 'test'], loc='upper left')\n",
    "plt.savefig('graphs/ctc_{}_loss.png'.format(date), bbox_inches='tight')\n",
    "plt.show()"
   ]
  },
  {
   "cell_type": "markdown",
   "metadata": {},
   "source": [
    "decode the output of the predictions into strings"
   ]
  },
  {
   "cell_type": "code",
   "execution_count": 33,
   "metadata": {},
   "outputs": [],
   "source": [
    "def str_out(dataset = X_val):\n",
    "    k_ctc_out = K.ctc_decode(sr_ctc.tm.predict(np.squeeze(dataset), \n",
    "                                                verbose = 1), \n",
    "                             np.array([28 for _ in dataset]))\n",
    "    decoded_out = K.eval(k_ctc_out[0][0])\n",
    "    str_decoded_out = []\n",
    "    for i, _ in enumerate(decoded_out):     \n",
    "        str_decoded_out.append(\"\".join([index_map[c] for c in decoded_out[i] if not c == -1]))\n",
    "        \n",
    "    return str_decoded_out"
   ]
  },
  {
   "cell_type": "code",
   "execution_count": 22,
   "metadata": {
    "scrolled": true
   },
   "outputs": [
    {
     "name": "stdout",
     "output_type": "stream",
     "text": [
      "6839/6839 [==============================] - 4s 606us/step\n"
     ]
    }
   ],
   "source": [
    "y_pred_val = str_out()"
   ]
  },
  {
   "cell_type": "markdown",
   "metadata": {},
   "source": [
    "Turn the target array Y_val_all into strings with 'all_classes[Y_val_all[i]]'"
   ]
  },
  {
   "cell_type": "code",
   "execution_count": 44,
   "metadata": {
    "scrolled": true
   },
   "outputs": [
    {
     "name": "stdout",
     "output_type": "stream",
     "text": [
      "PREDICTED: \t REAL:\n",
      "three \t\t three\n",
      "cat \t\t cat\n",
      "marvin \t\t marvin\n",
      "up \t\t up\n",
      "riget \t\t right\n",
      "off \t\t off\n",
      "left \t\t left\n",
      "four \t\t four\n",
      "tree \t\t tree\n",
      "seven \t\t seven\n"
     ]
    }
   ],
   "source": [
    "print('PREDICTED: \\t REAL:')\n",
    "for i in range(10):\n",
    "    print(y_pred_val[i], '\\t\\t',all_classes[Y_val_all[i]])"
   ]
  },
  {
   "cell_type": "code",
   "execution_count": 47,
   "metadata": {
    "scrolled": true
   },
   "outputs": [
    {
     "name": "stdout",
     "output_type": "stream",
     "text": [
      "             precision    recall  f1-score   support\n",
      "\n",
      "        yes       1.00      0.94      0.97       261\n",
      "         no       0.96      0.82      0.88       270\n",
      "         up       0.94      0.88      0.91       260\n",
      "       down       0.98      0.81      0.89       264\n",
      "       left       0.99      0.91      0.95       247\n",
      "      right       0.98      0.88      0.93       256\n",
      "         on       0.91      0.89      0.90       257\n",
      "        off       0.96      0.28      0.43       256\n",
      "       stop       0.99      0.89      0.94       246\n",
      "         go       0.80      0.85      0.82       260\n",
      "    silence       0.00      0.00      0.00        41\n",
      "      house       1.00      0.95      0.97       173\n",
      "       nine       0.98      0.87      0.92       230\n",
      "       four       0.99      0.91      0.95       280\n",
      "      happy       0.99      0.98      0.99       189\n",
      "        wow       0.99      0.90      0.95       166\n",
      "       five       0.97      0.82      0.89       242\n",
      "       zero       1.00      0.93      0.96       260\n",
      "       tree       0.84      0.84      0.84       166\n",
      "        six       0.99      0.92      0.96       262\n",
      "        one       0.99      0.89      0.93       230\n",
      "      three       0.92      0.81      0.86       248\n",
      "      eight       0.96      0.90      0.93       243\n",
      "        cat       1.00      0.90      0.95       168\n",
      "        two       0.93      0.91      0.92       236\n",
      "      seven       1.00      0.89      0.94       263\n",
      "     marvin       1.00      0.94      0.97       160\n",
      "        dog       0.95      0.89      0.92       170\n",
      "     sheila       0.99      0.93      0.96       176\n",
      "        bed       0.98      0.84      0.90       197\n",
      "       bird       0.99      0.88      0.93       162\n",
      "\n",
      "avg / total       0.96      0.86      0.90      6839\n",
      "\n"
     ]
    },
    {
     "name": "stderr",
     "output_type": "stream",
     "text": [
      "/home/chris/.conda/envs/deep/lib/python3.5/site-packages/sklearn/metrics/classification.py:1135: UndefinedMetricWarning: Precision and F-score are ill-defined and being set to 0.0 in labels with no predicted samples.\n",
      "  'precision', 'predicted', average, warn_for)\n"
     ]
    }
   ],
   "source": [
    "print(classification_report([all_classes[Y_val_all[i]] for i, _ in enumerate(Y_val_all)], \n",
    "                            y_pred_val, labels = all_classes))"
   ]
  },
  {
   "cell_type": "code",
   "execution_count": 55,
   "metadata": {},
   "outputs": [
    {
     "data": {
      "image/png": "[encoded data removed]",
      "text/plain": [
       "<matplotlib.figure.Figure at 0x7f0d10725da0>"
      ]
     },
     "metadata": {},
     "output_type": "display_data"
    }
   ],
   "source": [
    "plt.figure(figsize = (8,8))\n",
    "plt.imshow(confusion_matrix([all_classes[Y_val_all[i]] for i, _ in enumerate(Y_val_all)], \n",
    "                            y_pred_val, labels = all_classes))\n",
    "plt.xticks(np.arange(0, len(all_classes)), all_classes, rotation = 'vertical', size = 12)\n",
    "plt.yticks(np.arange(0, len(all_classes)), all_classes, size = 12)\n",
    "plt.show()"
   ]
  }
 ],
 "metadata": {
  "kernelspec": {
   "display_name": "Python 3",
   "language": "python",
   "name": "python3"
  },
  "language_info": {
   "codemirror_mode": {
    "name": "ipython",
    "version": 3
   },
   "file_extension": ".py",
   "mimetype": "text/x-python",
   "name": "python",
   "nbconvert_exporter": "python",
   "pygments_lexer": "ipython3",
   "version": "3.5.4"
  }
 },
 "nbformat": 4,
 "nbformat_minor": 2
}

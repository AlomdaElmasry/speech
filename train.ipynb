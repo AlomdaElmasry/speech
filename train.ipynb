{
 "cells": [
  {
   "cell_type": "markdown",
   "metadata": {},
   "source": [
    "## What to do?\n",
    "\n",
    "Just run the cells that you need.\n",
    "There's different sections for the different model architectures"
   ]
  },
  {
   "cell_type": "code",
   "execution_count": 1,
   "metadata": {},
   "outputs": [
    {
     "name": "stderr",
     "output_type": "stream",
     "text": [
      "Using TensorFlow backend.\n"
     ]
    }
   ],
   "source": [
    "import numpy as np\n",
    "from keras.callbacks import ModelCheckpoint, TensorBoard, EarlyStopping\n",
    "from keras.utils import to_categorical, plot_model\n",
    "from time import time\n",
    "from models import ResNet\n"
   ]
  },
  {
   "cell_type": "markdown",
   "metadata": {},
   "source": [
    "import training and validation data\n",
    "not included in repo, set your own folder location"
   ]
  },
  {
   "cell_type": "code",
   "execution_count": null,
   "metadata": {
    "collapsed": true
   },
   "outputs": [],
   "source": [
    "X_train = np.load('X_train.npy')\n",
    "Y_train = np.load('Y_train.npy')\n",
    "X_val = np.load('X_val.npy')\n",
    "Y_val = np.load('Y_val.npy')"
   ]
  },
  {
   "cell_type": "markdown",
   "metadata": {},
   "source": [
    "The training data is very unbalanced with a much larger 'unknown' class.\n",
    "keras has a class_weight paramter in the fit() function that will give higher penalties to missclassifications in underrepresented classes. It takes a dict like this:"
   ]
  },
  {
   "cell_type": "code",
   "execution_count": null,
   "metadata": {
    "collapsed": true
   },
   "outputs": [],
   "source": [
    "classes = ['yes', 'no', 'up', 'down', 'left', 'right', 'on', 'off', 'stop', 'go', 'silence', 'unknown']\n",
    "\n"
   ]
  },
  {
   "cell_type": "markdown",
   "metadata": {},
   "source": [
    "some constants we need for all models"
   ]
  },
  {
   "cell_type": "code",
   "execution_count": null,
   "metadata": {
    "collapsed": true
   },
   "outputs": [],
   "source": [
    "input_size = X_train.shape[1:]\n",
    "batch_size = 196"
   ]
  },
  {
   "cell_type": "markdown",
   "metadata": {},
   "source": [
    "### First the ResNet\n",
    "declare filters for each block of blocks and set output size."
   ]
  },
  {
   "cell_type": "code",
   "execution_count": 2,
   "metadata": {},
   "outputs": [],
   "source": [
    "filters_list = [8,16,32]\n",
    "output_size = 12\n",
    "\n",
    "#adjust these strings for organizeing the saved files\n",
    "date = '1301'\n",
    "arch = 'resnet8_16_32'"
   ]
  },
  {
   "cell_type": "markdown",
   "metadata": {},
   "source": [
    "Build the model"
   ]
  },
  {
   "cell_type": "code",
   "execution_count": null,
   "metadata": {
    "collapsed": true
   },
   "outputs": [],
   "source": [
    "sr = ResNet(filters_list, input_size, output_size)\n",
    "sr.build()\n",
    "sr.m.compile(loss='categorical_crossentropy', \n",
    "             optimizer='adadelta', \n",
    "             metrics=[\"accuracy\"])"
   ]
  },
  {
   "cell_type": "code",
   "execution_count": null,
   "metadata": {
    "collapsed": true
   },
   "outputs": [],
   "source": [
    "#callbacks, remember to make folders to store files \n",
    "checkpointer = ModelCheckpoint(filepath=\"./models/{}_{}.h5\".format(arch, date),\n",
    "                               verbose=0,\n",
    "                               save_best_only=True)\n",
    "   \n",
    "earlystopping = EarlyStopping()\n",
    "\n",
    "tensorboard = TensorBoard(log_dir = \"./logs/{}_{}\".format(date, time()), \n",
    "                          histogram_freq = 0, \n",
    "                          write_graph = True, \n",
    "                          write_images = True)"
   ]
  },
  {
   "cell_type": "markdown",
   "metadata": {},
   "source": [
    "train the model\n",
    "the history object stores training data for later access, like plotting training curves"
   ]
  },
  {
   "cell_type": "code",
   "execution_count": null,
   "metadata": {
    "collapsed": true
   },
   "outputs": [],
   "source": [
    "history = sr.m.fit(X_train, \n",
    "                   to_categorical(Y_train), \n",
    "                   batch_size = batch_size, \n",
    "                   epochs = 25, \n",
    "                   verbose = 1, shuffle = True, \n",
    "                   class_weight = class_weights,\n",
    "                   validation_data = (X_val, to_categorical(Y_val)), \n",
    "                   callbacks = [checkpointer]) # add more callbacks if you want"
   ]
  }
 ],
 "metadata": {
  "kernelspec": {
   "display_name": "Python 3",
   "language": "python",
   "name": "python3"
  },
  "language_info": {
   "codemirror_mode": {
    "name": "ipython",
    "version": 3
   },
   "file_extension": ".py",
   "mimetype": "text/x-python",
   "name": "python",
   "nbconvert_exporter": "python",
   "pygments_lexer": "ipython3",
   "version": "3.5.4"
  }
 },
 "nbformat": 4,
 "nbformat_minor": 2
}
